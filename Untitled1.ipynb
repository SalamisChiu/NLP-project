{
 "cells": [
  {
   "cell_type": "code",
   "execution_count": 4,
   "metadata": {},
   "outputs": [],
   "source": [
    "###Quiz 2-1\n",
    "import nltk\n",
    "from nltk.tokenize import word_tokenize,sent_tokenize\n",
    "from nltk.corpus import stopwords\n",
    "\n",
    "file = open(\"raw.txt\",'r')\n",
    "Token= ''\n",
    "for i in file:\n",
    "    Token += i.lower()\n",
    "raw_tokenize = sent_tokenize(Token)\n",
    "\n",
    "\n",
    "from __future__ import print_function, division\n",
    "from future.utils import iteritems\n",
    "from builtins import range, input\n",
    "\n",
    "\n",
    "import numpy as np\n",
    "\n",
    "\n",
    "def bigram_probs(sentences, V, start_idx, end_idx, smoothing=1):\n",
    "\n",
    "  bigram_probs = np.ones((V, V)) * smoothing\n",
    "  for sentence in sentences:\n",
    "    for i in range(len(sentence)):\n",
    "      \n",
    "      if i == 0:\n",
    "        \n",
    "        bigram_probs[start_idx, sentence[i]] += 1\n",
    "      else:\n",
    "        \n",
    "        bigram_probs[sentence[i-1], sentence[i]] += 1\n",
    "\n",
    "   \n",
    "      if i == len(sentence) - 1:\n",
    "        # final word\n",
    "        bigram_probs[sentence[i], end_idx] += 1\n",
    "\n",
    " \n",
    "  bigram_probs /= bigram_probs.sum(axis=1, keepdims=True)\n",
    "  return bigram_probs\n",
    "\n",
    "\n",
    "#print(get_bigram_probs (raw_tokenize, 500,'we','are'))\n",
    "\n",
    "def trigram_probs((sentences, V, start_idx, end_idx, smoothing=1)):\n",
    "    "
   ]
  },
  {
   "cell_type": "code",
   "execution_count": 9,
   "metadata": {},
   "outputs": [
    {
     "data": {
      "text/plain": [
       "5911460"
      ]
     },
     "execution_count": 9,
     "metadata": {},
     "output_type": "execute_result"
    }
   ],
   "source": [
    "##Quiz2 \n",
    "\n",
    "\n",
    "\n"
   ]
  },
  {
   "cell_type": "code",
   "execution_count": null,
   "metadata": {},
   "outputs": [],
   "source": [
    "####Quiz2-3\n",
    "def predict_max ( starting, cnt2 = cnt2, cnt3=cnt3):\n",
    "    \n",
    "    return list_of_words"
   ]
  }
 ],
 "metadata": {
  "kernelspec": {
   "display_name": "Python 3",
   "language": "python",
   "name": "python3"
  },
  "language_info": {
   "codemirror_mode": {
    "name": "ipython",
    "version": 3
   },
   "file_extension": ".py",
   "mimetype": "text/x-python",
   "name": "python",
   "nbconvert_exporter": "python",
   "pygments_lexer": "ipython3",
   "version": "3.6.4"
  }
 },
 "nbformat": 4,
 "nbformat_minor": 2
}
